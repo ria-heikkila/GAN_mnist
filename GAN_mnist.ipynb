{
  "nbformat": 4,
  "nbformat_minor": 0,
  "metadata": {
    "colab": {
      "name": "GAN_mnist.ipynb",
      "provenance": [],
      "collapsed_sections": [],
      "include_colab_link": true
    },
    "kernelspec": {
      "name": "python3",
      "display_name": "Python 3"
    },
    "accelerator": "GPU"
  },
  "cells": [
    {
      "cell_type": "markdown",
      "metadata": {
        "id": "view-in-github",
        "colab_type": "text"
      },
      "source": [
        "<a href=\"https://colab.research.google.com/github/ria-heikkila/GAN_mnist/blob/master/GAN_mnist.ipynb\" target=\"_parent\"><img src=\"https://colab.research.google.com/assets/colab-badge.svg\" alt=\"Open In Colab\"/></a>"
      ]
    },
    {
      "cell_type": "markdown",
      "metadata": {
        "id": "5LIQwN6ZtemF",
        "colab_type": "text"
      },
      "source": [
        "![代替テキスト](https://www.imagazine.co.jp/wp-content/uploads/2018/09/is20tech001zu004-1.jpg)"
      ]
    },
    {
      "cell_type": "markdown",
      "metadata": {
        "id": "TC6drwwIteiv",
        "colab_type": "text"
      },
      "source": [
        "生成・学習に多層NNを使用</br>\n",
        "＊CNNを使うと「DCGAN」となる"
      ]
    },
    {
      "cell_type": "code",
      "metadata": {
        "id": "98_U1bJ6pSk2",
        "colab_type": "code",
        "colab": {}
      },
      "source": [
        "%matplotlib inline\n",
        "\n",
        "import pickle as pkl\n",
        "import numpy as np\n",
        "import tensorflow as tf\n",
        "import matplotlib.pyplot as plt\n"
      ],
      "execution_count": 0,
      "outputs": []
    },
    {
      "cell_type": "code",
      "metadata": {
        "id": "EUhcJROuplai",
        "colab_type": "code",
        "outputId": "3a19bf60-120a-4832-a2e6-1b1ddc50ab4a",
        "colab": {
          "base_uri": "https://localhost:8080/",
          "height": 86
        }
      },
      "source": [
        "#学習データと検証データをアップロード\n",
        "from tensorflow.examples.tutorials.mnist import input_data\n",
        "mnist = input_data.read_data_sets('MNIST_data')"
      ],
      "execution_count": 0,
      "outputs": [
        {
          "output_type": "stream",
          "text": [
            "Extracting MNIST_data/train-images-idx3-ubyte.gz\n",
            "Extracting MNIST_data/train-labels-idx1-ubyte.gz\n",
            "Extracting MNIST_data/t10k-images-idx3-ubyte.gz\n",
            "Extracting MNIST_data/t10k-labels-idx1-ubyte.gz\n"
          ],
          "name": "stdout"
        }
      ]
    },
    {
      "cell_type": "markdown",
      "metadata": {
        "id": "7pAacOK-rDQt",
        "colab_type": "text"
      },
      "source": [
        "データの入れ物は「プレースホルダー」→　データの容器</br>\n",
        "実行時にfeed_dictという引数でプレースホルダーにデータを渡す\n",
        "\n",
        "---\n",
        "\n"
      ]
    },
    {
      "cell_type": "markdown",
      "metadata": {
        "id": "H2B-HT8I_Upf",
        "colab_type": "text"
      },
      "source": [
        "**GANの構築**\n",
        "\n",
        "１．モデルの定義（登場する変数を定義する（D、G））</br>\n",
        "２．損失関数（Loss）を定義する</br>\n",
        "３．最適化手法を定義する</br>\n",
        "\n",
        "\n"
      ]
    },
    {
      "cell_type": "code",
      "metadata": {
        "id": "AWAoXnSD_aoY",
        "colab_type": "code",
        "colab": {}
      },
      "source": [
        ""
      ],
      "execution_count": 0,
      "outputs": []
    },
    {
      "cell_type": "code",
      "metadata": {
        "id": "vyIxVw0Lvjmj",
        "colab_type": "code",
        "colab": {}
      },
      "source": [
        "#真データとノイズの次元（サイズ）を指定\n",
        "def model_inputs(read_dim, z_dim):\n",
        "  #真データ\n",
        "  inputs_real = tf.placeholder(tf.float32, (None, real_dim), name = 'input_real') #データの個数はまだわからないので、None（未定）で指定しておく\n",
        "  #ノイズ\n",
        "  inputs_z = tf.placeholder(tf.float32, (None, z_dim), name ='input_z')\n",
        "\n",
        "  return inputs_real, inputs_z\n"
      ],
      "execution_count": 0,
      "outputs": []
    },
    {
      "cell_type": "code",
      "metadata": {
        "id": "YA2CZPOFrLX1",
        "colab_type": "code",
        "colab": {}
      },
      "source": [
        "#ジェネレーターの定義\n",
        "#reuseオプション：関数内の変数値の保持\n",
        " def generator(z, out_dim, n_units=128, reuse=False, alpha = 0.01):\n",
        "   with tf.variable_scope('generator', reuse=reuse): #reuseオプションの使用場面を指定\n",
        "     #h1：1つ目の隠れ層のノードの値\n",
        "     h1 = tf.layers.dense(z, n_units, activation=None) #Leaky ReLuはtensorflowに入ってないので、Noneにし、下記でLeaky ReLuを自分で定義する\n",
        "     #Leaky ReLu\n",
        "     h1 = tf.maximum(alpha * h1, h1)\n",
        "\n",
        "     #logits = score \n",
        "     logits = tf.layers.dense(h1, out_dim, activation=None)\n",
        "     #tanh(ハイパボリックタンジェント：-1～1の値を出力する)\n",
        "     out = tf.tanh(logits)\n",
        "\n",
        "     return "
      ],
      "execution_count": 0,
      "outputs": []
    },
    {
      "cell_type": "markdown",
      "metadata": {
        "id": "4FcHGDuZ7xZL",
        "colab_type": "text"
      },
      "source": [
        "tanhとsigmoidの違い"
      ]
    },
    {
      "cell_type": "markdown",
      "metadata": {
        "id": "ptQ001YW7kSa",
        "colab_type": "text"
      },
      "source": [
        "![tanhとsigmoidの違い](https://sebastianraschka.com/images/faq/tanh-sigmoid-relationship/tanh-sigmoid.png)"
      ]
    },
    {
      "cell_type": "code",
      "metadata": {
        "id": "uP4nb1qp7scH",
        "colab_type": "code",
        "colab": {}
      },
      "source": [
        "#ディスクリミネーターの定義\n",
        "def discriminator(x, n_units=128, reuse=False, alpha=0.01):\n",
        "  with tf.variable_scope('discriminator', reuse=reuse):\n",
        "    h1 = tf.layers.dense(x, n_units, activation = None)\n",
        "    h1 = tf.maximum(alpha*h1,h1)\n",
        "\n",
        "    logits = tf.layers.dense(h1, 1, activation = None)\n",
        "    out = tf.sigmoid(logits)\n",
        "\n",
        "    return out, logits"
      ],
      "execution_count": 0,
      "outputs": []
    },
    {
      "cell_type": "code",
      "metadata": {
        "id": "6zAc07Tc98k2",
        "colab_type": "code",
        "colab": {}
      },
      "source": [
        "#ハイパーパラメータの初期化\n",
        "\n",
        "input_size = 784\n",
        "z_size = 100\n",
        "g_hidden_size = 128\n",
        "d_hidden_size = 128\n",
        "alpha = 0.01 #Leaky ReLuの負領域\n",
        "smooth = 0.1 #Dの学習を円滑にする調整"
      ],
      "execution_count": 0,
      "outputs": []
    },
    {
      "cell_type": "code",
      "metadata": {
        "id": "ebwGBkTO-j5Q",
        "colab_type": "code",
        "colab": {}
      },
      "source": [
        "#計算グラフの定義\n",
        " "
      ],
      "execution_count": 0,
      "outputs": []
    }
  ]
}